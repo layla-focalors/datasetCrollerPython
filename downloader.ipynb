{
 "cells": [
  {
   "cell_type": "code",
   "execution_count": 7,
   "metadata": {},
   "outputs": [
    {
     "name": "stderr",
     "output_type": "stream",
     "text": [
      "C:\\Users\\user\\AppData\\Local\\Temp\\ipykernel_34280\\1947757910.py:3: DeprecationWarning: executable_path has been deprecated, please pass in a Service object\n",
      "  browser = webdriver.Chrome(ChromeDriverManager().install())\n"
     ]
    }
   ],
   "source": [
    "from selenium import webdriver\n",
    "from webdriver_manager.chrome import ChromeDriverManager\n",
    "browser = webdriver.Chrome(ChromeDriverManager().install())\n",
    "from selenium.webdriver.common.keys import Keys\n",
    "from selenium.webdriver.common.by import By\n",
    "from selenium.webdriver.chrome.options import Options\n",
    "import time\n",
    "\n",
    "options = Options()\n",
    "\n",
    "#지정한 user-agent로 설정합니다.\n",
    "user_agent = \"Mozilla/5.0 (Linux; Android 9; SM-G975F) AppleWebKit/537.36 (KHTML, like Gecko) Chrome/71.0.3578.83 Mobile Safari/537.36\"\n",
    "options.add_argument('user-agent=' + user_agent)\n",
    "# options.add_argument('headless') #headless모드 브라우저가 뜨지 않고 실행됩니다.\n",
    "# options.add_argument('--window-size= x, y') #실행되는 브라우저 크기를 지정할 수 있습니다.\n",
    "# options.add_argument('--start-maximized') #브라우저가 최대화된 상태로 실행됩니다.\n",
    "# options.add_argument('--start-fullscreen') #브라우저가 풀스크린 모드(F11)로 실행됩니다.\n",
    "# options.add_argument('--blink-settings=imagesEnabled=false') #브라우저에서 이미지 로딩을 하지 않습니다.\n",
    "options.add_argument('--mute-audio') #브라우저에 음소거 옵션을 적용합니다.\n",
    "options.add_argument('incognito') #시크릿 모드의 브라우저가 실행됩니다."
   ]
  },
  {
   "cell_type": "code",
   "execution_count": 8,
   "metadata": {},
   "outputs": [],
   "source": [
    "URL = 'https://nipagpu.managed.co.kr/NIPA/AIArchvs/public'"
   ]
  },
  {
   "cell_type": "code",
   "execution_count": 9,
   "metadata": {},
   "outputs": [],
   "source": [
    "import authf"
   ]
  },
  {
   "cell_type": "code",
   "execution_count": 10,
   "metadata": {},
   "outputs": [
    {
     "name": "stdout",
     "output_type": "stream",
     "text": [
      "['test', 'password']\n"
     ]
    }
   ],
   "source": [
    "print(authf.TestGetAuth())"
   ]
  },
  {
   "cell_type": "code",
   "execution_count": 11,
   "metadata": {},
   "outputs": [
    {
     "name": "stdout",
     "output_type": "stream",
     "text": [
      "activation key :11\n"
     ]
    }
   ],
   "source": [
    "import random\n",
    "idx = authf.getAuth()\n",
    "try:\n",
    "    browser.get(URL)\n",
    "    vsp = input(\"인증 코드를 입력하세요 : \")\n",
    "    time.sleep(3)\n",
    "    print(\"activation key :\" + vsp)\n",
    "    browser.find_element(By.ID, 'captchaAnwser').send_keys(int(vsp))\n",
    "    browser.find_element(By.ID, 'memberid').send_keys(idx[0]) \n",
    "    time.sleep(random.randint(1, 3))  \n",
    "    browser.find_element(By.ID, 'memberpwd').send_keys(idx[1]) \n",
    "    browser.find_element(By.CSS_SELECTOR, '#loginForm > button').click()\n",
    "except:\n",
    "    pass\n",
    "browser.get(URL)"
   ]
  },
  {
   "cell_type": "code",
   "execution_count": 12,
   "metadata": {},
   "outputs": [
    {
     "name": "stdout",
     "output_type": "stream",
     "text": [
      "1 [D-234] CINIC-10 is not ImageNet or CIFAR-10 (CINIC-10 이미지 분류 데이터 집합) 2020-09-27 오후 4:24:22\n",
      "2 [D-233] The Million Song Dataset (수만개의 음악 데이터 집합) 2020-09-27 오후 4:24:04\n",
      "3 [D-232] UCSD Anomaly Detection Dataset (UCSD 보행자 탐지 데이터 집합) 2020-09-27 오후 4:23:50\n",
      "4 [D-231] Rotation Equivariant CNNs for Digital Pathology (종양 조직 데이터 집합) 2020-09-27 오후 4:23:39\n",
      "5 [D-230] Cats And Dogs (고양이와 개 데이터 집합) 2020-09-27 오후 4:23:28\n",
      "6 [D-229] Poetry Foundation Poems (시 제단 데이터 집합) 2020-09-27 오후 4:23:17\n",
      "7 [D-228] Legal Case Reports Data Set (호주 법원 데이터 집합) 2020-09-27 오후 4:23:06\n",
      "8 [D-227] Object Detection Combining Recognition and Segmentation (보행자 인식 데이터 집합) 2020-09-27 오후 4:22:54\n",
      "9 [D-226] Vision for Looking at Traffic Lights: Issues, Survey, and Perspectives (교통 표지 데이터 집합) 2020-09-27 오후 4:22:39\n",
      "10 [D-225] The Cityscapes Dataset for Semantic Urban Scene Understanding (도시 전경 데이터 집합) 2020-09-27 오후 4:22:26\n",
      "11 [D-224] moving mnist (움직이는 숫자 탐지 데이터 집합) 2020-09-27 오후 4:22:14\n",
      "12 [D-223] The Kinetics Human Action Video Dataset (인간 행동 분석 데이터 집합) 2020-09-27 오후 4:21:57\n",
      "13 [D-222] Food-101 (101가지 음식에 관한 데이터 집합) 2020-09-27 오후 4:21:40\n",
      "14 [D-221] An Analysis of Single-Layer Networks in Unsupervised Feature Learning (비 지도 이미지 분류 데이터 집합) 2020-09-27 오후 4:21:24\n",
      "15 [D-220] Reading Digits in Natural Images with Unsupervised Feature Learning (SVHN 숫자 인식 데이터 집합) 2020-09-27 오후 4:21:11\n"
     ]
    }
   ],
   "source": [
    "csf = browser.find_element(By.CSS_SELECTOR, '#AIArchvsArea > div > div > div > div > div.ibox-content > div.panel-body > div > div.table-responsive > table > tbody')\n",
    "print(csf.text)"
   ]
  },
  {
   "cell_type": "code",
   "execution_count": 15,
   "metadata": {},
   "outputs": [
    {
     "name": "stdout",
     "output_type": "stream",
     "text": [
      "1 [D-234] CINIC-10 is not ImageNet or CIFAR-10 (CINIC-10 이미지 분류 데이터 집합) 2020-09-27 오후 4:24:22\n",
      "2 [D-233] The Million Song Dataset (수만개의 음악 데이터 집합) 2020-09-27 오후 4:24:04\n",
      "3 [D-232] UCSD Anomaly Detection Dataset (UCSD 보행자 탐지 데이터 집합) 2020-09-27 오후 4:23:50\n",
      "4 [D-231] Rotation Equivariant CNNs for Digital Pathology (종양 조직 데이터 집합) 2020-09-27 오후 4:23:39\n",
      "5 [D-230] Cats And Dogs (고양이와 개 데이터 집합) 2020-09-27 오후 4:23:28\n",
      "6 [D-229] Poetry Foundation Poems (시 제단 데이터 집합) 2020-09-27 오후 4:23:17\n",
      "7 [D-228] Legal Case Reports Data Set (호주 법원 데이터 집합) 2020-09-27 오후 4:23:06\n",
      "8 [D-227] Object Detection Combining Recognition and Segmentation (보행자 인식 데이터 집합) 2020-09-27 오후 4:22:54\n",
      "9 [D-226] Vision for Looking at Traffic Lights: Issues, Survey, and Perspectives (교통 표지 데이터 집합) 2020-09-27 오후 4:22:39\n",
      "10 [D-225] The Cityscapes Dataset for Semantic Urban Scene Understanding (도시 전경 데이터 집합) 2020-09-27 오후 4:22:26\n",
      "11 [D-224] moving mnist (움직이는 숫자 탐지 데이터 집합) 2020-09-27 오후 4:22:14\n",
      "12 [D-223] The Kinetics Human Action Video Dataset (인간 행동 분석 데이터 집합) 2020-09-27 오후 4:21:57\n",
      "13 [D-222] Food-101 (101가지 음식에 관한 데이터 집합) 2020-09-27 오후 4:21:40\n",
      "14 [D-221] An Analysis of Single-Layer Networks in Unsupervised Feature Learning (비 지도 이미지 분류 데이터 집합) 2020-09-27 오후 4:21:24\n",
      "15 [D-220] Reading Digits in Natural Images with Unsupervised Feature Learning (SVHN 숫자 인식 데이터 집합) 2020-09-27 오후 4:21:11\n"
     ]
    }
   ],
   "source": [
    "fc = csf.find_elements(By.TAG_NAME, 'tr')\n",
    "for i in fc:\n",
    "    print(i.text)breakn"
   ]
  },
  {
   "cell_type": "code",
   "execution_count": 40,
   "metadata": {},
   "outputs": [
    {
     "name": "stdout",
     "output_type": "stream",
     "text": [
      "https://nipagpu.managed.co.kr/NIPA/AIArchvsRead/public?board_idx=20\n",
      "https://nipagpu.managed.co.kr/NIPA/AIArchvsRead/public?board_idx=21\n",
      "https://nipagpu.managed.co.kr/NIPA/AIArchvsRead/public?board_idx=22\n",
      "https://nipagpu.managed.co.kr/NIPA/AIArchvsRead/public?board_idx=23\n",
      "https://nipagpu.managed.co.kr/NIPA/AIArchvsRead/public?board_idx=24\n",
      "https://nipagpu.managed.co.kr/NIPA/AIArchvsRead/public?board_idx=25\n",
      "https://nipagpu.managed.co.kr/NIPA/AIArchvsRead/public?board_idx=26\n",
      "https://nipagpu.managed.co.kr/NIPA/AIArchvsRead/public?board_idx=27\n",
      "https://attach.didim365.com/FileDown?pCode=940FAE9AF0E64D3C202009271605564ED9D5B170794191\n",
      "https://nipagpu.managed.co.kr/NIPA/AIArchvsRead/public?board_idx=28\n",
      "https://attach.didim365.com/FileDown?pCode=EA14DDCA9BB54F0420201005091421C0D94A1EB1644FE4\n",
      "https://nipagpu.managed.co.kr/NIPA/AIArchvsRead/public?board_idx=29\n",
      "https://attach.didim365.com/FileDown?pCode=180438DDEEE74B90202009271606507ABA7DF11E3D4B50\n",
      "https://nipagpu.managed.co.kr/NIPA/AIArchvsRead/public?board_idx=30\n",
      "https://attach.didim365.com/FileDown?pCode=BD4D05A69FDF4A2B20200927160736A36FEB5FA05B4227\n",
      "https://nipagpu.managed.co.kr/NIPA/AIArchvsRead/public?board_idx=31\n",
      "https://attach.didim365.com/FileDown?pCode=0B808BEBD480411A202009271608009B928D7130CE48AC\n",
      "https://nipagpu.managed.co.kr/NIPA/AIArchvsRead/public?board_idx=32\n",
      "https://attach.didim365.com/FileDown?pCode=CB2282E46408467F202009271608242693FB9F0A3C458C\n",
      "https://nipagpu.managed.co.kr/NIPA/AIArchvsRead/public?board_idx=33\n",
      "https://attach.didim365.com/FileDown?pCode=D3C09D09E4D747C820201005092337D9869642401D4050\n",
      "https://nipagpu.managed.co.kr/NIPA/AIArchvsRead/public?board_idx=34\n",
      "https://attach.didim365.com/FileDown?pCode=600337AF73F14558202010050924304C11D7BEAD6D4CB1\n",
      "https://nipagpu.managed.co.kr/NIPA/AIArchvsRead/public?board_idx=35\n",
      "https://attach.didim365.com/FileDown?pCode=553430FF3D104D462020102913554077EBE405AC3D40AB\n",
      "https://nipagpu.managed.co.kr/NIPA/AIArchvsRead/public?board_idx=36\n",
      "https://attach.didim365.com/FileDown?pCode=E3E7CE1C8EC647E2202009271618495DCDF12930804B70\n",
      "https://nipagpu.managed.co.kr/NIPA/AIArchvsRead/public?board_idx=37\n",
      "https://attach.didim365.com/FileDown?pCode=1B6E800A9C314C9E202009271619260384293B5A53400B\n",
      "https://nipagpu.managed.co.kr/NIPA/AIArchvsRead/public?board_idx=38\n",
      "https://attach.didim365.com/FileDown?pCode=9A65B70BE18A41822020100509251690AAC265FD344864\n",
      "https://nipagpu.managed.co.kr/NIPA/AIArchvsRead/public?board_idx=39\n",
      "https://attach.didim365.com/FileDown?pCode=A55A67CC5D214411202009271620335286D1195D134B98\n",
      "https://nipagpu.managed.co.kr/NIPA/AIArchvsRead/public?board_idx=40\n",
      "https://attach.didim365.com/FileDown?pCode=67B5457F5D574F232020092716211788E5C2EC205B4E2C\n",
      "https://nipagpu.managed.co.kr/NIPA/AIArchvsRead/public?board_idx=41\n",
      "https://attach.didim365.com/FileDown?pCode=3F4D1C5376C5446D20201005092553837BA4917960424D\n",
      "https://nipagpu.managed.co.kr/NIPA/AIArchvsRead/public?board_idx=42\n",
      "https://attach.didim365.com/FileDown?pCode=C96497F3F62F43442020092716092371EC36BC07D04892\n",
      "https://nipagpu.managed.co.kr/NIPA/AIArchvsRead/public?board_idx=43\n",
      "https://attach.didim365.com/FileDown?pCode=78BDC30A554845E320200927160948416A35D2C2FC4CDC\n",
      "https://nipagpu.managed.co.kr/NIPA/AIArchvsRead/public?board_idx=44\n",
      "https://attach.didim365.com/FileDown?pCode=0EA1FC0BED324388202009271610151F2D96C39B304B6E\n",
      "https://nipagpu.managed.co.kr/NIPA/AIArchvsRead/public?board_idx=45\n",
      "https://attach.didim365.com/FileDown?pCode=5AC25D7E6896408820200927161032C36756527F1742A1\n",
      "https://nipagpu.managed.co.kr/NIPA/AIArchvsRead/public?board_idx=46\n",
      "https://attach.didim365.com/FileDown?pCode=5874BF64DC9F406F20200927161046109C741513D14755\n",
      "https://nipagpu.managed.co.kr/NIPA/AIArchvsRead/public?board_idx=47\n",
      "https://attach.didim365.com/FileDown?pCode=40974B232A1342F720200927161122B0E2B927001E4D66\n",
      "https://nipagpu.managed.co.kr/NIPA/AIArchvsRead/public?board_idx=48\n",
      "https://attach.didim365.com/FileDown?pCode=FA466E0AF42B4D032020092716115743B1EDE49A0940B8\n",
      "https://nipagpu.managed.co.kr/NIPA/AIArchvsRead/public?board_idx=49\n",
      "https://attach.didim365.com/FileDown?pCode=92D2BE4CB16E4A4B202009271613011E4B54375AF74470\n",
      "https://nipagpu.managed.co.kr/NIPA/AIArchvsRead/public?board_idx=50\n",
      "https://attach.didim365.com/FileDown?pCode=DCA938D538384F5C20200927161322C78E9242CB134FC6\n",
      "https://nipagpu.managed.co.kr/NIPA/AIArchvsRead/public?board_idx=51\n",
      "https://attach.didim365.com/FileDown?pCode=FF14A4B572ED480720200927161426D62DE16B29AF4962\n",
      "https://nipagpu.managed.co.kr/NIPA/AIArchvsRead/public?board_idx=52\n",
      "https://attach.didim365.com/FileDown?pCode=6592BFE790124BC720200927161448DE8943BDB4FE44FA\n",
      "https://nipagpu.managed.co.kr/NIPA/AIArchvsRead/public?board_idx=53\n",
      "https://attach.didim365.com/FileDown?pCode=2033C49650474D35202009271615236FF067630AA34016\n",
      "https://nipagpu.managed.co.kr/NIPA/AIArchvsRead/public?board_idx=54\n",
      "https://attach.didim365.com/FileDown?pCode=9FFF77C0E4334C0520200927161551F2288333F8934455\n",
      "https://nipagpu.managed.co.kr/NIPA/AIArchvsRead/public?board_idx=55\n",
      "https://attach.didim365.com/FileDown?pCode=C201D8EB08AD4CFE20200927161617F786055F4F874471\n",
      "https://nipagpu.managed.co.kr/NIPA/AIArchvsRead/public?board_idx=56\n",
      "https://attach.didim365.com/FileDown?pCode=D27A2E078445495B20200927161634471C19E667BB435C\n",
      "https://nipagpu.managed.co.kr/NIPA/AIArchvsRead/public?board_idx=57\n",
      "https://attach.didim365.com/FileDown?pCode=EE57F0E7B4364481202009271624169219190D47284CDA\n",
      "https://nipagpu.managed.co.kr/NIPA/AIArchvsRead/public?board_idx=58\n",
      "https://attach.didim365.com/FileDown?pCode=988DC22A993B4BDB20201029140736655C77E1045B4ECB\n",
      "https://nipagpu.managed.co.kr/NIPA/AIArchvsRead/public?board_idx=59\n",
      "https://attach.didim365.com/FileDown?pCode=3CDFB6E366434696202009271626140281FBAE87A44B9A\n",
      "https://nipagpu.managed.co.kr/NIPA/AIArchvsRead/public?board_idx=60\n",
      "https://attach.didim365.com/FileDown?pCode=559AAC307AB946D220201005092642EBDFCB9D44F6459D\n"
     ]
    }
   ],
   "source": [
    "NURL = 'https://nipagpu.managed.co.kr/NIPA/AIArchvsRead/public?board_idx=TOKEN'\n",
    "for i in range(20, 402):\n",
    "    try:\n",
    "        CURLN = NURL.replace('TOKEN', str(i))\n",
    "        import wget\n",
    "        #AIArchvsReadArea > div > div:nth-child(1) > div > div.ibox-content > table:nth-child(4) > tbody > tr:nth-child(1) > td > div > a:nth-child(2)\n",
    "        # #AIArchvsReadArea > div > div:nth-child(1) > div > div.ibox-content > table:nth-child(4) > tbody > tr:nth-child(1) > td > div > a\n",
    "        browser.get(CURLN)\n",
    "        time.sleep(1)\n",
    "        cp = browser.find_element(By.CSS_SELECTOR, '#AIArchvsReadArea > div > div:nth-child(1) > div > div.ibox-content > table:nth-child(4) > tbody > tr:nth-child(1) > td > div > a').get_attribute('href')\n",
    "        name = browser.find_element(By.CSS_SELECTOR, '#AIArchvsReadArea > div > div:nth-child(1) > div > div.ibox-content > table:nth-child(4) > tbody > tr:nth-child(1) > td > div > a').text\n",
    "        print(cp)\n",
    "        wget.download(cp, f'W:\\\\nipa자료\\\\cdmk\\\\{name}')\n",
    "    except:\n",
    "        pass\n",
    "    print(CURLN)"
   ]
  },
  {
   "cell_type": "code",
   "execution_count": 37,
   "metadata": {},
   "outputs": [
    {
     "name": "stdout",
     "output_type": "stream",
     "text": [
      "https://attach.didim365.com/FileDown?pCode=2C5087E6F300447C202005121433360DB6BA776CD7453D\n"
     ]
    },
    {
     "data": {
      "text/plain": [
       "'W:\\\\nipa자료\\\\cdmk\\\\kakao_2.jpg'"
      ]
     },
     "execution_count": 37,
     "metadata": {},
     "output_type": "execute_result"
    }
   ],
   "source": [
    "import wget\n",
    "#AIArchvsReadArea > div > div:nth-child(1) > div > div.ibox-content > table:nth-child(4) > tbody > tr:nth-child(1) > td > div > a:nth-child(2)\n",
    "# #AIArchvsReadArea > div > div:nth-child(1) > div > div.ibox-content > table:nth-child(4) > tbody > tr:nth-child(1) > td > div > a\n",
    "browser.get('https://nipagpu.managed.co.kr/NIPA/AIArchvsRead/public?board_idx=11')\n",
    "time.sleep(1)\n",
    "cp = browser.find_element(By.CSS_SELECTOR, '#AIArchvsReadArea > div > div:nth-child(1) > div > div.ibox-content > table:nth-child(4) > tbody > tr:nth-child(1) > td > div > a').get_attribute('href')\n",
    "name = browser.find_element(By.CSS_SELECTOR, '#AIArchvsReadArea > div > div:nth-child(1) > div > div.ibox-content > table:nth-child(4) > tbody > tr:nth-child(1) > td > div > a').text\n",
    "print(cp)\n",
    "wget.download(cp, f'W:\\\\nipa자료\\\\cdmk\\\\{name}')"
   ]
  },
  {
   "cell_type": "code",
   "execution_count": 28,
   "metadata": {},
   "outputs": [],
   "source": [
    "import wget"
   ]
  }
 ],
 "metadata": {
  "kernelspec": {
   "display_name": "Python 3",
   "language": "python",
   "name": "python3"
  },
  "language_info": {
   "codemirror_mode": {
    "name": "ipython",
    "version": 3
   },
   "file_extension": ".py",
   "mimetype": "text/x-python",
   "name": "python",
   "nbconvert_exporter": "python",
   "pygments_lexer": "ipython3",
   "version": "3.11.5"
  },
  "orig_nbformat": 4
 },
 "nbformat": 4,
 "nbformat_minor": 2
}
